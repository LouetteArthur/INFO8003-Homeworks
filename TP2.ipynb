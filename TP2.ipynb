{
 "cells": [
  {
   "cell_type": "code",
   "execution_count": 1,
   "id": "60f9afa5-843a-4aa4-b4ea-4ccb921a3561",
   "metadata": {},
   "outputs": [],
   "source": [
    "import random \n",
    "\n",
    "reward_table = [0, -1, -1, 1, -1, -2, -3, -4, 10]\n",
    "\n",
    "def policy():\n",
    "    choice = 1\n",
    "    return choice\n",
    "\n",
    "def dynamic1(state, action):\n",
    "    w = random.uniform(0, 1)\n",
    "    if w <= 3/4:\n",
    "        return min(max(state+action, 0), 8)\n",
    "    else:\n",
    "        return min(max(state-action, 0), 8)\n",
    "\n",
    "def dynamic2(state, action):\n",
    "    w = random.uniform(0, 1)\n",
    "    if w <= 1/2:\n",
    "        return min(max(state+action, 0), 8)\n",
    "    elif w <= 3/4:\n",
    "        return min(max(state-action, 0), 8)\n",
    "    else:\n",
    "        return 0\n"
   ]
  },
  {
   "cell_type": "markdown",
   "id": "5029c292-e8d5-49ab-9ef5-6b572a3da822",
   "metadata": {},
   "source": [
    "### QUESTION 1\n",
    "Write a function which creates a trajectory out of the functions dynamic1 - reward1 and dynamic2-reward2 using the policy defined for you. The function should return the trajectory a list of tuples of (initial_state, action, reward, next_state). The initial state is state 0."
   ]
  },
  {
   "cell_type": "code",
   "execution_count": 4,
   "id": "a84e184e-409f-4393-b782-b282bab668ee",
   "metadata": {},
   "outputs": [],
   "source": [
    "def trajectory(N, dynamicfct):\n",
    "    #TODO\n",
    "    return"
   ]
  },
  {
   "cell_type": "markdown",
   "id": "af29ee8c-fb47-40ca-bc08-95629ab27195",
   "metadata": {},
   "source": [
    "### QUESTION 2\n",
    "Write a function which builds a nested dictionary that contains the probability of landing in state i given the state j and action a. It takes as argument a trajectory and ouput the dictionary.\n",
    "\n",
    "\n",
    "TIP: use the function get() from python standard library and return 0 if a tuple does not exit "
   ]
  },
  {
   "cell_type": "code",
   "execution_count": 5,
   "id": "16ed74ac-8a17-46b3-81d8-2aea8c881fd0",
   "metadata": {},
   "outputs": [],
   "source": [
    "def build_probability_dict(trajectory):\n",
    "    #TODO\n",
    "    return"
   ]
  }
 ],
 "metadata": {
  "kernelspec": {
   "display_name": "Python 3 (ipykernel)",
   "language": "python",
   "name": "python3"
  },
  "language_info": {
   "codemirror_mode": {
    "name": "ipython",
    "version": 3
   },
   "file_extension": ".py",
   "mimetype": "text/x-python",
   "name": "python",
   "nbconvert_exporter": "python",
   "pygments_lexer": "ipython3",
   "version": "3.8.16"
  }
 },
 "nbformat": 4,
 "nbformat_minor": 5
}
